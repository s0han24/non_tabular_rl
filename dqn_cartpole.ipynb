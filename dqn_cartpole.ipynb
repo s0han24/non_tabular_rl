{
  "cells": [
    {
      "cell_type": "code",
      "execution_count": 1,
      "id": "fe67a230",
      "metadata": {
        "id": "fe67a230"
      },
      "outputs": [],
      "source": [
        "import gymnasium as gym\n",
        "import torch\n",
        "import torch.nn as nn\n",
        "import random\n",
        "import numpy as np\n",
        "import matplotlib.pyplot as plt\n",
        "from tqdm import tqdm"
      ]
    },
    {
      "cell_type": "code",
      "execution_count": 2,
      "id": "0abac80f",
      "metadata": {
        "id": "0abac80f"
      },
      "outputs": [],
      "source": [
        "# # Check if MPS device is available\n",
        "# if torch.backends.mps.is_available():\n",
        "#     mps_device = torch.device(\"mps\")\n",
        "#     x = torch.ones(1, device=mps_device)\n",
        "#     print (x)\n",
        "# else:\n",
        "#     print (\"MPS device not found.\")"
      ]
    },
    {
      "cell_type": "code",
      "execution_count": 3,
      "id": "511ac482",
      "metadata": {
        "id": "511ac482"
      },
      "outputs": [],
      "source": [
        "# # Add device fallback logic\n",
        "# def get_optimal_device():\n",
        "#     if torch.backends.mps.is_available():\n",
        "#         # Test performance with a simple operation\n",
        "#         import time\n",
        "\n",
        "#         # Test MPS\n",
        "#         mps_device = torch.device(\"mps\")\n",
        "#         start = time.time()\n",
        "#         x = torch.randn(1000, 1000, device=mps_device)\n",
        "#         y = torch.mm(x, x)\n",
        "#         torch.mps.synchronize()\n",
        "#         mps_time = time.time() - start\n",
        "\n",
        "#         # Test CPU\n",
        "#         start = time.time()\n",
        "#         x = torch.randn(1000, 1000, device=\"cpu\")\n",
        "#         y = torch.mm(x, x)\n",
        "#         cpu_time = time.time() - start\n",
        "\n",
        "#         # Use MPS only if it's significantly faster\n",
        "#         if mps_time < cpu_time * 0.8:\n",
        "#             print(f\"Using MPS (MPS: {mps_time:.3f}s, CPU: {cpu_time:.3f}s)\")\n",
        "#             return mps_device\n",
        "#         else:\n",
        "#             print(f\"Using CPU - MPS not faster (MPS: {mps_time:.3f}s, CPU: {cpu_time:.3f}s)\")\n",
        "#             return torch.device(\"cpu\")\n",
        "#     else:\n",
        "#         return torch.device(\"cpu\")\n",
        "\n",
        "# device = get_optimal_device()"
      ]
    },
    {
      "cell_type": "code",
      "source": [
        "device = torch.device(\"cuda\")"
      ],
      "metadata": {
        "id": "Z6jN9o7Grmzn"
      },
      "id": "Z6jN9o7Grmzn",
      "execution_count": 4,
      "outputs": []
    },
    {
      "cell_type": "code",
      "execution_count": 5,
      "id": "93f2f714",
      "metadata": {
        "id": "93f2f714"
      },
      "outputs": [],
      "source": [
        "# Fix for numpy bool type deprecation\n",
        "np.bool8 = np.bool"
      ]
    },
    {
      "cell_type": "code",
      "execution_count": 6,
      "id": "f4b84199",
      "metadata": {
        "id": "f4b84199"
      },
      "outputs": [],
      "source": [
        "hidden_layer_size = 64\n",
        "num_episodes = 100000\n",
        "batch_size = 64\n",
        "gamma = 0.99\n",
        "initial_epsilon = 1.0\n",
        "final_epsilon = 0.01"
      ]
    },
    {
      "cell_type": "code",
      "execution_count": 7,
      "id": "60514b74",
      "metadata": {
        "id": "60514b74"
      },
      "outputs": [],
      "source": [
        "class ReplayBuffer:\n",
        "    def __init__(self, capacity):\n",
        "        self.capacity = capacity\n",
        "        self.buffer = []\n",
        "        self.position = 0\n",
        "\n",
        "    def push(self, state, action, reward, next_state, done):\n",
        "        if len(self.buffer) < self.capacity:\n",
        "            self.buffer.append(None)\n",
        "        if isinstance(state, torch.Tensor):\n",
        "            state = state.cpu().numpy()\n",
        "        if isinstance(next_state, torch.Tensor):\n",
        "            next_state = next_state.cpu().numpy()\n",
        "        # Store the experience in the buffer as numpy arrays\n",
        "        self.buffer[self.position] = (state, action, reward, next_state, done)\n",
        "        # Increment the position and wrap around if necessary\n",
        "        self.position = (self.position + 1) % self.capacity\n",
        "\n",
        "    def sample(self, batch_size):\n",
        "        return random.sample(self.buffer, batch_size)\n",
        "\n",
        "    def __len__(self):\n",
        "        return len(self.buffer)"
      ]
    },
    {
      "cell_type": "code",
      "execution_count": 8,
      "id": "bd2262e5",
      "metadata": {
        "id": "bd2262e5"
      },
      "outputs": [],
      "source": [
        "class DQN(nn.Module):\n",
        "    def __init__(self, input_dim, output_dim):\n",
        "        super(DQN, self).__init__()\n",
        "        self.fc1 = nn.Linear(input_dim, hidden_layer_size)\n",
        "        self.fc2 = nn.Linear(hidden_layer_size, hidden_layer_size)\n",
        "        self.fc3 = nn.Linear(hidden_layer_size, output_dim)\n",
        "\n",
        "    def forward(self, x):\n",
        "        x = torch.relu(self.fc1(x))\n",
        "        x = torch.relu(self.fc2(x))\n",
        "        return self.fc3(x)"
      ]
    },
    {
      "cell_type": "code",
      "execution_count": 9,
      "id": "ab58882e",
      "metadata": {
        "id": "ab58882e"
      },
      "outputs": [],
      "source": [
        "def choose_action(state, model, epsilon=0.05):\n",
        "    if random.random() < epsilon:\n",
        "        return random.randint(0, 1)  # Random action\n",
        "    else:\n",
        "        with torch.no_grad():\n",
        "            # Convert to tensor only once\n",
        "            if isinstance(state, torch.Tensor):\n",
        "                if state.device != device:\n",
        "                    state_tensor = state.to(device)\n",
        "                else:\n",
        "                    state_tensor = state\n",
        "                if state_tensor.dim() == 1:\n",
        "                    state_tensor = state_tensor.unsqueeze(0)\n",
        "            else:\n",
        "                state_tensor = torch.FloatTensor(state).unsqueeze(0).to(device)\n",
        "            q_values = model(state_tensor)\n",
        "            return q_values.argmax().item()"
      ]
    },
    {
      "cell_type": "code",
      "execution_count": null,
      "id": "357fd079",
      "metadata": {
        "id": "357fd079",
        "outputId": "f1dab62b-f02a-4d92-d65e-f8251cc68836",
        "colab": {
          "base_uri": "https://localhost:8080/"
        }
      },
      "outputs": [
        {
          "output_type": "stream",
          "name": "stderr",
          "text": [
            " 17%|█▋        | 17453/100000 [01:00<06:14, 220.61it/s]"
          ]
        }
      ],
      "source": [
        "model = DQN(input_dim=4, output_dim=2)  # CartPole has 4 state dimensions and 2 actions\n",
        "optimizer = torch.optim.Adam(model.parameters(), lr=0.01)\n",
        "criterion = nn.MSELoss()\n",
        "buffer = ReplayBuffer(capacity=10000)\n",
        "env = gym.make('CartPole-v1')\n",
        "\n",
        "model.to(device)\n",
        "\n",
        "episode_returns = []\n",
        "bellman_errors = []\n",
        "\n",
        "for episode in tqdm(range(num_episodes)):\n",
        "    epsilon = (initial_epsilon - final_epsilon) * (num_episodes - episode) / num_episodes + final_epsilon\n",
        "\n",
        "    episode_return = 0\n",
        "    bellman_error = 0\n",
        "\n",
        "    state, info = env.reset()\n",
        "    done = False\n",
        "    while not done:\n",
        "        action = choose_action(state, model, epsilon)\n",
        "        next_state, reward, done, truncated, info = env.step(action)\n",
        "        buffer.push(state, action, reward, next_state, done)\n",
        "        state = next_state\n",
        "\n",
        "        episode_return += reward\n",
        "\n",
        "    if len(buffer) > batch_size:\n",
        "        experiences = buffer.sample(batch_size)\n",
        "\n",
        "        states, actions, rewards, next_states, dones = zip(*experiences)\n",
        "\n",
        "\n",
        "        # Single efficient tensor conversion\n",
        "        states = torch.FloatTensor(np.array(states)).to(device)\n",
        "        next_states = torch.FloatTensor(np.array(next_states)).to(device)\n",
        "        actions = torch.LongTensor(actions).to(device)\n",
        "        rewards = torch.FloatTensor(rewards).to(device)\n",
        "        dones = torch.FloatTensor(dones).to(device)\n",
        "\n",
        "        q_values = model(states).gather(1, actions.unsqueeze(1)).squeeze(1)\n",
        "        next_q_values = model(next_states).max(dim=1)[0]\n",
        "        target_q_values = rewards + (1 - dones) * gamma * next_q_values\n",
        "\n",
        "        loss = criterion(q_values, target_q_values.detach())\n",
        "        optimizer.zero_grad()\n",
        "        loss.backward()\n",
        "        optimizer.step()\n",
        "\n",
        "        bellman_error += loss.item()\n",
        "\n",
        "    if episode % 100 == 0:\n",
        "        episode_returns.append(episode_return)\n",
        "        bellman_errors.append(bellman_error)\n",
        "\n",
        "env.close()"
      ]
    },
    {
      "cell_type": "code",
      "execution_count": null,
      "id": "8e48b667",
      "metadata": {
        "id": "8e48b667"
      },
      "outputs": [],
      "source": [
        "plt.plot(episode_returns)\n",
        "plt.xlabel('Episode(in 100s)')\n",
        "plt.ylabel('Return')\n",
        "plt.title('Episode Returns')\n",
        "plt.show()"
      ]
    },
    {
      "cell_type": "code",
      "execution_count": null,
      "id": "131f381b",
      "metadata": {
        "id": "131f381b"
      },
      "outputs": [],
      "source": [
        "plt.plot(bellman_errors)\n",
        "plt.xlabel('Episode(in 100s)')\n",
        "plt.ylabel('Bellman Error')\n",
        "plt.title('Bellman Errors')\n",
        "plt.show()"
      ]
    }
  ],
  "metadata": {
    "kernelspec": {
      "display_name": "Python 3",
      "name": "python3"
    },
    "language_info": {
      "codemirror_mode": {
        "name": "ipython",
        "version": 3
      },
      "file_extension": ".py",
      "mimetype": "text/x-python",
      "name": "python",
      "nbconvert_exporter": "python",
      "pygments_lexer": "ipython3",
      "version": "3.13.1"
    },
    "colab": {
      "provenance": []
    }
  },
  "nbformat": 4,
  "nbformat_minor": 5
}